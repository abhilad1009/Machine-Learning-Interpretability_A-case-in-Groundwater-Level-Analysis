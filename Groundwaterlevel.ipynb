{
  "nbformat": 4,
  "nbformat_minor": 0,
  "metadata": {
    "colab": {
      "name": "Groundwaterlevel.ipynb",
      "provenance": [],
      "collapsed_sections": []
    },
    "kernelspec": {
      "name": "python3",
      "display_name": "Python 3"
    },
    "language_info": {
      "name": "python"
    }
  },
  "cells": [
    {
      "cell_type": "code",
      "metadata": {
        "colab": {
          "base_uri": "https://localhost:8080/"
        },
        "id": "jA0jwa1Vtvxt",
        "outputId": "7b1d7ef4-7e37-4151-9ccb-6fa46ce75414"
      },
      "source": [
        "from google.colab import drive\n",
        "drive.mount('/gdrive')\n",
        "import pathlib\n",
        "\n",
        "import os\n",
        "\n",
        "print(os.getcwd())\n",
        "%cd ..\n",
        "%cd gdrive\n",
        "%cd My Drive\n",
        "# %cd MAJOR PROJECT\n",
        "#data_root = pathlib.Path(\"/gdrive/My Drive/MAJOR PROJECT\")\n",
        "\n",
        "#%cd ./gdrive/My Drive/MAJOR PROJECT\n",
        "print(os.getcwd())"
      ],
      "execution_count": 1,
      "outputs": [
        {
          "output_type": "stream",
          "text": [
            "Mounted at /gdrive\n",
            "/content\n",
            "/\n",
            "/gdrive\n",
            "/gdrive/My Drive\n",
            "/gdrive/My Drive\n"
          ],
          "name": "stdout"
        }
      ]
    },
    {
      "cell_type": "code",
      "metadata": {
        "id": "0vWk8CUzt72V"
      },
      "source": [
        "from __future__ import absolute_import, division, print_function, unicode_literals\n",
        "\n",
        "try:\n",
        "  # %tensorflow_version only exists in Colab.\n",
        "  %tensorflow_version 2.x\n",
        "except Exception:\n",
        "  pass\n",
        "import tensorflow as tf\n",
        "from tensorflow.keras import layers\n",
        "\n",
        "import os\n",
        "import time \n",
        "\n",
        "from matplotlib import pyplot as plt\n",
        "from IPython import display\n",
        "\n",
        "from scipy.io import loadmat\n",
        "\n",
        "import numpy as np\n",
        "\n",
        "import pandas as pd\n",
        "\n",
        "import sklearn.preprocessing\n",
        "import sklearn\n",
        "import numpy as np\n",
        "import cv2\n",
        "from PIL import Image"
      ],
      "execution_count": 2,
      "outputs": []
    },
    {
      "cell_type": "code",
      "metadata": {
        "colab": {
          "base_uri": "https://localhost:8080/",
          "height": 215
        },
        "id": "21A11NZvuywR",
        "outputId": "8bd6865c-1a20-402f-86b3-859551e1529b"
      },
      "source": [
        "data=pd.read_excel('data/GW_data.xlsx')\n",
        "data.head()"
      ],
      "execution_count": 95,
      "outputs": [
        {
          "output_type": "execute_result",
          "data": {
            "text/html": [
              "<div>\n",
              "<style scoped>\n",
              "    .dataframe tbody tr th:only-of-type {\n",
              "        vertical-align: middle;\n",
              "    }\n",
              "\n",
              "    .dataframe tbody tr th {\n",
              "        vertical-align: top;\n",
              "    }\n",
              "\n",
              "    .dataframe thead th {\n",
              "        text-align: right;\n",
              "    }\n",
              "</style>\n",
              "<table border=\"1\" class=\"dataframe\">\n",
              "  <thead>\n",
              "    <tr style=\"text-align: right;\">\n",
              "      <th></th>\n",
              "      <th>Name</th>\n",
              "      <th>Namecode</th>\n",
              "      <th>Latitude</th>\n",
              "      <th>Longitude</th>\n",
              "      <th>Month</th>\n",
              "      <th>Year</th>\n",
              "      <th>January</th>\n",
              "      <th>February</th>\n",
              "      <th>March</th>\n",
              "      <th>April</th>\n",
              "      <th>May</th>\n",
              "      <th>June</th>\n",
              "      <th>July</th>\n",
              "      <th>August</th>\n",
              "      <th>September</th>\n",
              "      <th>October</th>\n",
              "      <th>November</th>\n",
              "      <th>December</th>\n",
              "      <th>Rain</th>\n",
              "      <th>Temp</th>\n",
              "      <th>Altitude</th>\n",
              "      <th>River</th>\n",
              "      <th>Aquifer</th>\n",
              "      <th>Soil</th>\n",
              "      <th>soil_depth</th>\n",
              "      <th>Alluvium</th>\n",
              "      <th>Basalt</th>\n",
              "      <th>Laterite</th>\n",
              "      <th>Limestone</th>\n",
              "      <th>Sandstone_conglomerate</th>\n",
              "      <th>Shale</th>\n",
              "      <th>Clay</th>\n",
              "      <th>Loam</th>\n",
              "      <th>Rocky</th>\n",
              "      <th>Sand</th>\n",
              "      <th>SD_10.0</th>\n",
              "      <th>SD_17.5</th>\n",
              "      <th>SD_37.5</th>\n",
              "      <th>SD_50.0</th>\n",
              "      <th>evapotranspiration</th>\n",
              "      <th>Linear</th>\n",
              "      <th>Spline</th>\n",
              "      <th>Level</th>\n",
              "      <th>Population</th>\n",
              "      <th>Area</th>\n",
              "      <th>Density</th>\n",
              "    </tr>\n",
              "  </thead>\n",
              "  <tbody>\n",
              "    <tr>\n",
              "      <th>0</th>\n",
              "      <td>Asamibya</td>\n",
              "      <td>0</td>\n",
              "      <td>22.97</td>\n",
              "      <td>69.45</td>\n",
              "      <td>Jan</td>\n",
              "      <td>2009</td>\n",
              "      <td>1</td>\n",
              "      <td>0</td>\n",
              "      <td>0</td>\n",
              "      <td>0</td>\n",
              "      <td>0</td>\n",
              "      <td>0</td>\n",
              "      <td>0</td>\n",
              "      <td>0</td>\n",
              "      <td>0</td>\n",
              "      <td>0</td>\n",
              "      <td>0</td>\n",
              "      <td>0</td>\n",
              "      <td>0.0</td>\n",
              "      <td>24</td>\n",
              "      <td>65</td>\n",
              "      <td>400</td>\n",
              "      <td>Basalt</td>\n",
              "      <td>Sand</td>\n",
              "      <td>50.0</td>\n",
              "      <td>0</td>\n",
              "      <td>1</td>\n",
              "      <td>0</td>\n",
              "      <td>0</td>\n",
              "      <td>0</td>\n",
              "      <td>0</td>\n",
              "      <td>0</td>\n",
              "      <td>0</td>\n",
              "      <td>0</td>\n",
              "      <td>1</td>\n",
              "      <td>0</td>\n",
              "      <td>0</td>\n",
              "      <td>0</td>\n",
              "      <td>1</td>\n",
              "      <td>23.08842</td>\n",
              "      <td>11.300</td>\n",
              "      <td>11.300000</td>\n",
              "      <td>11.30</td>\n",
              "      <td>3118</td>\n",
              "      <td>27.0611</td>\n",
              "      <td>140.0</td>\n",
              "    </tr>\n",
              "    <tr>\n",
              "      <th>1</th>\n",
              "      <td>Asamibya</td>\n",
              "      <td>0</td>\n",
              "      <td>22.97</td>\n",
              "      <td>69.45</td>\n",
              "      <td>Feb</td>\n",
              "      <td>2009</td>\n",
              "      <td>0</td>\n",
              "      <td>1</td>\n",
              "      <td>0</td>\n",
              "      <td>0</td>\n",
              "      <td>0</td>\n",
              "      <td>0</td>\n",
              "      <td>0</td>\n",
              "      <td>0</td>\n",
              "      <td>0</td>\n",
              "      <td>0</td>\n",
              "      <td>0</td>\n",
              "      <td>0</td>\n",
              "      <td>0.0</td>\n",
              "      <td>26</td>\n",
              "      <td>65</td>\n",
              "      <td>400</td>\n",
              "      <td>Basalt</td>\n",
              "      <td>Sand</td>\n",
              "      <td>50.0</td>\n",
              "      <td>0</td>\n",
              "      <td>1</td>\n",
              "      <td>0</td>\n",
              "      <td>0</td>\n",
              "      <td>0</td>\n",
              "      <td>0</td>\n",
              "      <td>0</td>\n",
              "      <td>0</td>\n",
              "      <td>0</td>\n",
              "      <td>1</td>\n",
              "      <td>0</td>\n",
              "      <td>0</td>\n",
              "      <td>0</td>\n",
              "      <td>1</td>\n",
              "      <td>22.34521</td>\n",
              "      <td>11.595</td>\n",
              "      <td>9.399830</td>\n",
              "      <td>NaN</td>\n",
              "      <td>3118</td>\n",
              "      <td>27.0611</td>\n",
              "      <td>140.0</td>\n",
              "    </tr>\n",
              "    <tr>\n",
              "      <th>2</th>\n",
              "      <td>Asamibya</td>\n",
              "      <td>0</td>\n",
              "      <td>22.97</td>\n",
              "      <td>69.45</td>\n",
              "      <td>Mar</td>\n",
              "      <td>2009</td>\n",
              "      <td>0</td>\n",
              "      <td>0</td>\n",
              "      <td>1</td>\n",
              "      <td>0</td>\n",
              "      <td>0</td>\n",
              "      <td>0</td>\n",
              "      <td>0</td>\n",
              "      <td>0</td>\n",
              "      <td>0</td>\n",
              "      <td>0</td>\n",
              "      <td>0</td>\n",
              "      <td>0</td>\n",
              "      <td>0.0</td>\n",
              "      <td>29</td>\n",
              "      <td>65</td>\n",
              "      <td>400</td>\n",
              "      <td>Basalt</td>\n",
              "      <td>Sand</td>\n",
              "      <td>50.0</td>\n",
              "      <td>0</td>\n",
              "      <td>1</td>\n",
              "      <td>0</td>\n",
              "      <td>0</td>\n",
              "      <td>0</td>\n",
              "      <td>0</td>\n",
              "      <td>0</td>\n",
              "      <td>0</td>\n",
              "      <td>0</td>\n",
              "      <td>1</td>\n",
              "      <td>0</td>\n",
              "      <td>0</td>\n",
              "      <td>0</td>\n",
              "      <td>1</td>\n",
              "      <td>26.96629</td>\n",
              "      <td>11.890</td>\n",
              "      <td>9.462509</td>\n",
              "      <td>NaN</td>\n",
              "      <td>3118</td>\n",
              "      <td>27.0611</td>\n",
              "      <td>140.0</td>\n",
              "    </tr>\n",
              "    <tr>\n",
              "      <th>3</th>\n",
              "      <td>Asamibya</td>\n",
              "      <td>0</td>\n",
              "      <td>22.97</td>\n",
              "      <td>69.45</td>\n",
              "      <td>Apr</td>\n",
              "      <td>2009</td>\n",
              "      <td>0</td>\n",
              "      <td>0</td>\n",
              "      <td>0</td>\n",
              "      <td>1</td>\n",
              "      <td>0</td>\n",
              "      <td>0</td>\n",
              "      <td>0</td>\n",
              "      <td>0</td>\n",
              "      <td>0</td>\n",
              "      <td>0</td>\n",
              "      <td>0</td>\n",
              "      <td>0</td>\n",
              "      <td>0.0</td>\n",
              "      <td>32</td>\n",
              "      <td>65</td>\n",
              "      <td>400</td>\n",
              "      <td>Basalt</td>\n",
              "      <td>Sand</td>\n",
              "      <td>50.0</td>\n",
              "      <td>0</td>\n",
              "      <td>1</td>\n",
              "      <td>0</td>\n",
              "      <td>0</td>\n",
              "      <td>0</td>\n",
              "      <td>0</td>\n",
              "      <td>0</td>\n",
              "      <td>0</td>\n",
              "      <td>0</td>\n",
              "      <td>1</td>\n",
              "      <td>0</td>\n",
              "      <td>0</td>\n",
              "      <td>0</td>\n",
              "      <td>1</td>\n",
              "      <td>32.72775</td>\n",
              "      <td>12.185</td>\n",
              "      <td>10.738934</td>\n",
              "      <td>NaN</td>\n",
              "      <td>3118</td>\n",
              "      <td>27.0611</td>\n",
              "      <td>140.0</td>\n",
              "    </tr>\n",
              "    <tr>\n",
              "      <th>4</th>\n",
              "      <td>Asamibya</td>\n",
              "      <td>0</td>\n",
              "      <td>22.97</td>\n",
              "      <td>69.45</td>\n",
              "      <td>May</td>\n",
              "      <td>2009</td>\n",
              "      <td>0</td>\n",
              "      <td>0</td>\n",
              "      <td>0</td>\n",
              "      <td>0</td>\n",
              "      <td>1</td>\n",
              "      <td>0</td>\n",
              "      <td>0</td>\n",
              "      <td>0</td>\n",
              "      <td>0</td>\n",
              "      <td>0</td>\n",
              "      <td>0</td>\n",
              "      <td>0</td>\n",
              "      <td>0.0</td>\n",
              "      <td>32</td>\n",
              "      <td>65</td>\n",
              "      <td>400</td>\n",
              "      <td>Basalt</td>\n",
              "      <td>Sand</td>\n",
              "      <td>50.0</td>\n",
              "      <td>0</td>\n",
              "      <td>1</td>\n",
              "      <td>0</td>\n",
              "      <td>0</td>\n",
              "      <td>0</td>\n",
              "      <td>0</td>\n",
              "      <td>0</td>\n",
              "      <td>0</td>\n",
              "      <td>0</td>\n",
              "      <td>1</td>\n",
              "      <td>0</td>\n",
              "      <td>0</td>\n",
              "      <td>0</td>\n",
              "      <td>1</td>\n",
              "      <td>36.38367</td>\n",
              "      <td>12.480</td>\n",
              "      <td>12.480000</td>\n",
              "      <td>12.48</td>\n",
              "      <td>3118</td>\n",
              "      <td>27.0611</td>\n",
              "      <td>140.0</td>\n",
              "    </tr>\n",
              "  </tbody>\n",
              "</table>\n",
              "</div>"
            ],
            "text/plain": [
              "       Name  Namecode  Latitude  Longitude  ...  Level  Population     Area  Density\n",
              "0  Asamibya         0     22.97      69.45  ...  11.30        3118  27.0611    140.0\n",
              "1  Asamibya         0     22.97      69.45  ...    NaN        3118  27.0611    140.0\n",
              "2  Asamibya         0     22.97      69.45  ...    NaN        3118  27.0611    140.0\n",
              "3  Asamibya         0     22.97      69.45  ...    NaN        3118  27.0611    140.0\n",
              "4  Asamibya         0     22.97      69.45  ...  12.48        3118  27.0611    140.0\n",
              "\n",
              "[5 rows x 46 columns]"
            ]
          },
          "metadata": {
            "tags": []
          },
          "execution_count": 95
        }
      ]
    },
    {
      "cell_type": "code",
      "metadata": {
        "id": "4LuVoCONvPZm"
      },
      "source": [
        "Features=['Namecode','Year','January','February', 'March',\t'April',\t'May',\t'June',\t'July',\t'August',\t'September',\t'October',\t'November',\t'December',\n",
        "          'Rain',\t'Temp',\t'Altitude',\t'River', 'Alluvium',\t'Basalt',\t'Laterite',\t'Limestone',\t'Sandstone_conglomerate',\t'Shale',\t'Clay',\t'Loam',\t'Rocky',\t'Sand',\t\n",
        "          'SD_10.0',\t'SD_17.5',\t'SD_37.5',\t'SD_50.0',\t'evapotranspiration',\t'Population']\n",
        "Base=['Namecode','January','February', 'March',\t'April',\t'May',\t'June',\t'July',\t'August',\t'September',\t'October',\t'November',\t'December',\n",
        "      'Rain','Temp','Altitude','evapotranspiration']\n",
        "LI_level=['Linear']\n",
        "SI_level=['Spline']\n",
        "level=['Level']"
      ],
      "execution_count": 4,
      "outputs": []
    },
    {
      "cell_type": "code",
      "metadata": {
        "id": "-Y93vRpcQzq1"
      },
      "source": [
        "basetest_x=data[data.Level.isna()][Base]\n",
        "fulltest_x=data[data.Level.isna()][Features]\n",
        "test_y=data[data.Level.isna() ][SI_level]\n",
        "\n",
        "basetrain_x=data[data.Level.notna()][Base]\n",
        "fulltrain_x=data[data.Level.notna()][Features]\n",
        "train_y=data[data.Level.notna() ][SI_level]\n",
        "\n",
        "\n",
        "fulldata_x=data[Features][:]\n",
        "fulldata_y=data[SI_level][:]"
      ],
      "execution_count": 96,
      "outputs": []
    },
    {
      "cell_type": "code",
      "metadata": {
        "id": "bHFaferVRtY5",
        "colab": {
          "base_uri": "https://localhost:8080/"
        },
        "outputId": "abfa4d58-6b46-4bcb-d4ab-0c55b0bdba87"
      },
      "source": [
        "print(basetrain_x.describe())\n",
        "print(fulltest_x.describe())\n"
      ],
      "execution_count": 8,
      "outputs": [
        {
          "output_type": "stream",
          "text": [
            "          Namecode      January  ...     Altitude  evapotranspiration\n",
            "count  1613.000000  1613.000000  ...  1613.000000         1613.000000\n",
            "mean     27.057037     0.247985  ...    58.871668           45.932066\n",
            "std      15.507717     0.431977  ...    41.441133           27.525150\n",
            "min       0.000000     0.000000  ...    10.000000           17.514670\n",
            "25%      13.000000     0.000000  ...    25.000000           31.016420\n",
            "50%      27.000000     0.000000  ...    45.000000           36.383670\n",
            "75%      40.000000     0.000000  ...    90.000000           38.522840\n",
            "max      53.000000     1.000000  ...   180.000000           96.158940\n",
            "\n",
            "[8 rows x 17 columns]\n",
            "          Namecode         Year  ...  evapotranspiration     Population\n",
            "count  3751.000000  3751.000000  ...         3751.000000    3751.000000\n",
            "mean     27.090642  2013.910690  ...           49.715308   13684.315916\n",
            "std      15.482559     3.105568  ...           25.157127   38682.452512\n",
            "min       0.000000  2009.000000  ...           17.514670     566.000000\n",
            "25%      13.000000  2011.000000  ...           26.966290    1364.000000\n",
            "50%      27.000000  2014.000000  ...           37.885980    3118.000000\n",
            "75%      40.000000  2017.000000  ...           75.654850    4580.000000\n",
            "max      53.000000  2019.000000  ...           96.158940  247992.000000\n",
            "\n",
            "[8 rows x 34 columns]\n"
          ],
          "name": "stdout"
        }
      ]
    },
    {
      "cell_type": "code",
      "metadata": {
        "colab": {
          "base_uri": "https://localhost:8080/",
          "height": 284
        },
        "id": "A9oyYbJFJ1cl",
        "outputId": "edf26101-2516-4447-b333-16c0eb39bbbe"
      },
      "source": [
        "gwl=data[SI_level].fillna(value=0)\n",
        "gwl.plot()"
      ],
      "execution_count": 11,
      "outputs": [
        {
          "output_type": "execute_result",
          "data": {
            "text/plain": [
              "<matplotlib.axes._subplots.AxesSubplot at 0x7f6ce4409810>"
            ]
          },
          "metadata": {
            "tags": []
          },
          "execution_count": 11
        },
        {
          "output_type": "display_data",
          "data": {
            "image/png": "[encoded data removed]",
            "text/plain": [
              "<Figure size 432x288 with 1 Axes>"
            ]
          },
          "metadata": {
            "tags": [],
            "needs_background": "light"
          }
        }
      ]
    },
    {
      "cell_type": "markdown",
      "metadata": {
        "id": "hDXw59t_c2jx"
      },
      "source": [
        "# Result of Baseline Random forest"
      ]
    },
    {
      "cell_type": "code",
      "metadata": {
        "colab": {
          "base_uri": "https://localhost:8080/"
        },
        "id": "_U2TrFYRzsaa",
        "outputId": "992d2fb5-255e-4f4a-a7e9-ea24b1f6c890"
      },
      "source": [
        "from sklearn.ensemble import RandomForestRegressor\n",
        "from sklearn.metrics import mean_squared_error\n",
        "\n",
        "reg = RandomForestRegressor().fit(basetrain_x, train_y)\n",
        "print(\"base features: \",reg.score(basetest_x,test_y))\n",
        "\n",
        "ypred=reg.predict(basetest_x)\n",
        "\n",
        "print(\"MSE base features: \",mean_squared_error(test_y.values.flatten(),ypred))\n",
        "\n",
        "print(\"Correlation cofficient base: \\n\",np.corrcoef(test_y.values.flatten(),ypred))"
      ],
      "execution_count": 6,
      "outputs": [
        {
          "output_type": "stream",
          "text": [
            "/usr/local/lib/python3.7/dist-packages/ipykernel_launcher.py:4: DataConversionWarning: A column-vector y was passed when a 1d array was expected. Please change the shape of y to (n_samples,), for example using ravel().\n",
            "  after removing the cwd from sys.path.\n"
          ],
          "name": "stderr"
        },
        {
          "output_type": "stream",
          "text": [
            "base features:  0.9113329916872076\n",
            "MSE base features:  8.481729201727441\n",
            "Correlation cofficient base: \n",
            " [[1.         0.95511228]\n",
            " [0.95511228 1.        ]]\n"
          ],
          "name": "stdout"
        }
      ]
    },
    {
      "cell_type": "markdown",
      "metadata": {
        "id": "dhO_Ma9KkF4q"
      },
      "source": [
        "# Result of Fullfeatures Random forest"
      ]
    },
    {
      "cell_type": "code",
      "metadata": {
        "colab": {
          "base_uri": "https://localhost:8080/"
        },
        "id": "uLeeMV-8v7SQ",
        "outputId": "695d0077-36af-4598-8325-0af545ea17b2"
      },
      "source": [
        "reg = RandomForestRegressor().fit(fulltrain_x, train_y)\n",
        "print(\"full features: \",reg.score(fulltest_x,test_y))\n",
        "\n",
        "ypred=reg.predict(fulltest_x)\n",
        "\n",
        "print(\"MSE full features: \",mean_squared_error(test_y.values.flatten(),ypred))\n",
        "\n",
        "print(\"Correlation cofficient full: \\n\",np.corrcoef(test_y.values.flatten(),ypred))"
      ],
      "execution_count": 66,
      "outputs": [
        {
          "output_type": "stream",
          "text": [
            "/usr/local/lib/python3.7/dist-packages/ipykernel_launcher.py:1: DataConversionWarning: A column-vector y was passed when a 1d array was expected. Please change the shape of y to (n_samples,), for example using ravel().\n",
            "  \"\"\"Entry point for launching an IPython kernel.\n"
          ],
          "name": "stderr"
        },
        {
          "output_type": "stream",
          "text": [
            "full features:  0.9563020131194405\n",
            "MSE full features:  4.180072142211556\n",
            "Correlation cofficient full: \n",
            " [[1.         0.97813557]\n",
            " [0.97813557 1.        ]]\n"
          ],
          "name": "stdout"
        }
      ]
    },
    {
      "cell_type": "code",
      "metadata": {
        "colab": {
          "base_uri": "https://localhost:8080/"
        },
        "id": "8tswjcIAwwO0",
        "outputId": "e26cd409-a249-4224-ba81-40085df8549a"
      },
      "source": [
        "print(reg.score(fulltest_x,test_y))\n",
        "print(ypred)"
      ],
      "execution_count": 87,
      "outputs": [
        {
          "output_type": "stream",
          "text": [
            "0.9563020131194405\n",
            "[10.9278 10.4713 11.3337 ... 28.5286 29.0407 29.8952]\n"
          ],
          "name": "stdout"
        }
      ]
    },
    {
      "cell_type": "markdown",
      "metadata": {
        "id": "knZ9hXUtkUOv"
      },
      "source": [
        "# PLot of true vs predicted groundwater level randomforest"
      ]
    },
    {
      "cell_type": "code",
      "metadata": {
        "id": "Ads8LKSgSaeK",
        "colab": {
          "base_uri": "https://localhost:8080/",
          "height": 265
        },
        "outputId": "f926993c-7f9d-4258-d5a7-48200a9a3611"
      },
      "source": [
        "plt.plot(test_y.values.flatten()[:500])\n",
        "plt.plot(ypred[:500],)\n",
        "plt.legend([\"True\", \"Predicted\"], loc =\"upper right\")\n",
        "plt.ylabel('Groundwater Level (m)')\n",
        "plt.show()"
      ],
      "execution_count": 93,
      "outputs": [
        {
          "output_type": "display_data",
          "data": {
            "image/png": "[encoded data removed]",
            "text/plain": [
              "<Figure size 432x288 with 1 Axes>"
            ]
          },
          "metadata": {
            "tags": [],
            "needs_background": "light"
          }
        }
      ]
    },
    {
      "cell_type": "markdown",
      "metadata": {
        "id": "4zTzbLS5kb6D"
      },
      "source": [
        "# Result of locations if trained on model with other locations"
      ]
    },
    {
      "cell_type": "code",
      "metadata": {
        "id": "9E_3nabDTE6T",
        "colab": {
          "base_uri": "https://localhost:8080/"
        },
        "outputId": "b3359aa9-0f56-42e5-ef86-50eb2a7d6cf1"
      },
      "source": [
        "print(\"Bhuj \" )\n",
        "bhuj=data[data.Namecode==3]\n",
        "X=bhuj[bhuj.Level.notna()][Features]\n",
        "Y=bhuj[bhuj.Level.notna()][SI_level]\n",
        "\n",
        "print(\"R2: \",reg.score(X,Y))\n",
        "yp=reg.predict(X)\n",
        "print(\"Mse: \",mean_squared_error(Y.values.flatten(),yp))\n",
        "print(\"Correlation cofficient full: \\n\",np.corrcoef(Y.values.flatten(),yp))\n",
        "\n",
        "\n",
        "print(\"\\ngdham \" )\n",
        "gdham=data[data.Namecode==17]\n",
        "X=gdham[gdham.Level.notna()][Features]\n",
        "Y=gdham[gdham.Level.notna()][SI_level]\n",
        "\n",
        "print(\"R2: \",reg.score(X,Y))\n",
        "yp=reg.predict(X)\n",
        "print(\"Mse: \",mean_squared_error(Y.values.flatten(),yp))\n",
        "print(\"Correlation cofficient full: \\n\",np.corrcoef(Y.values.flatten(),yp))\n",
        "\n",
        "\n",
        "print(\"\\nmundra \" )\n",
        "mundra=data[data.Namecode==39]\n",
        "X=mundra[mundra.Level.notna()][Features]\n",
        "Y=mundra[mundra.Level.notna()][SI_level]\n",
        "\n",
        "print(\"R2: \",reg.score(X,Y))\n",
        "yp=reg.predict(X)\n",
        "print(\"Mse: \",mean_squared_error(Y.values.flatten(),yp))\n",
        "print(\"Correlation cofficient full: \\n\",np.corrcoef(Y.values.flatten(),yp))"
      ],
      "execution_count": 69,
      "outputs": [
        {
          "output_type": "stream",
          "text": [
            "Bhuj \n",
            "R2:  0.9205154613079971\n",
            "Mse:  0.2996215499999992\n",
            "Correlation cofficient full: \n",
            " [[1.         0.97563191]\n",
            " [0.97563191 1.        ]]\n",
            "\n",
            "gdham \n",
            "R2:  0.9256146868194475\n",
            "Mse:  0.265983065652175\n",
            "Correlation cofficient full: \n",
            " [[1.         0.98742085]\n",
            " [0.98742085 1.        ]]\n",
            "\n",
            "mundra \n",
            "R2:  0.9058734475766783\n",
            "Mse:  0.18249858289473755\n",
            "Correlation cofficient full: \n",
            " [[1.         0.96654333]\n",
            " [0.96654333 1.        ]]\n"
          ],
          "name": "stdout"
        }
      ]
    },
    {
      "cell_type": "markdown",
      "metadata": {
        "id": "XNRuubGikmJ8"
      },
      "source": [
        "# Result of locations if model is trained individually"
      ]
    },
    {
      "cell_type": "code",
      "metadata": {
        "colab": {
          "base_uri": "https://localhost:8080/"
        },
        "id": "zBJfdcsWfX2T",
        "outputId": "492703a9-ec1f-45e5-c901-13c6bad70659"
      },
      "source": [
        "print(\"Bhuj \" )\n",
        "bhuj=data[data.Namecode==3]\n",
        "X=bhuj[bhuj.Level.isna()][Features]\n",
        "Y=bhuj[bhuj.Level.isna()][SI_level]\n",
        "reg1=RandomForestRegressor().fit(X,Y)\n",
        "X=bhuj[bhuj.Level.notna()][Features]\n",
        "Y=bhuj[bhuj.Level.notna()][SI_level]\n",
        "print(\"R2: \",reg1.score(X,Y))\n",
        "yp=reg1.predict(X)\n",
        "print(\"Mse: \",mean_squared_error(Y.values.flatten(),yp))\n",
        "print(\"Correlation cofficient full: \\n\",np.corrcoef(Y.values.flatten(),yp))\n",
        "\n",
        "\n",
        "print(\"\\ngdham \" )\n",
        "gdham=data[data.Namecode==17]\n",
        "X=gdham[gdham.Level.isna()][Features]\n",
        "Y=gdham[gdham.Level.isna()][SI_level]\n",
        "reg1=RandomForestRegressor().fit(X,Y)\n",
        "X=gdham[gdham.Level.notna()][Features]\n",
        "Y=gdham[gdham.Level.notna()][SI_level]\n",
        "print(\"R2: \",reg1.score(X,Y))\n",
        "yp=reg1.predict(X)\n",
        "print(\"Mse: \",mean_squared_error(Y.values.flatten(),yp))\n",
        "print(\"Correlation cofficient full: \\n\",np.corrcoef(Y.values.flatten(),yp))\n",
        "\n",
        "\n",
        "print(\"\\nmundra \" )\n",
        "mundra=data[data.Namecode==39]\n",
        "X=mundra[mundra.Level.isna()][Features]\n",
        "Y=mundra[mundra.Level.isna()][SI_level]\n",
        "reg1=RandomForestRegressor().fit(X,Y)\n",
        "X=mundra[mundra.Level.notna()][Features]\n",
        "Y=mundra[mundra.Level.notna()][SI_level]\n",
        "print(\"R2: \",reg1.score(X,Y))\n",
        "yp=reg1.predict(X)\n",
        "print(\"Mse: \",mean_squared_error(Y.values.flatten(),yp))\n",
        "print(\"Correlation cofficient full: \\n\",np.corrcoef(Y.values.flatten(),yp))"
      ],
      "execution_count": 70,
      "outputs": [
        {
          "output_type": "stream",
          "text": [
            "Bhuj \n",
            "R2:  0.6585936385808735\n",
            "Mse:  1.2869509576527294\n",
            "Correlation cofficient full: \n",
            " [[1.         0.84386935]\n",
            " [0.84386935 1.        ]]\n",
            "\n",
            "gdham \n"
          ],
          "name": "stdout"
        },
        {
          "output_type": "stream",
          "text": [
            "/usr/local/lib/python3.7/dist-packages/ipykernel_launcher.py:5: DataConversionWarning: A column-vector y was passed when a 1d array was expected. Please change the shape of y to (n_samples,), for example using ravel().\n",
            "  \"\"\"\n",
            "/usr/local/lib/python3.7/dist-packages/ipykernel_launcher.py:18: DataConversionWarning: A column-vector y was passed when a 1d array was expected. Please change the shape of y to (n_samples,), for example using ravel().\n"
          ],
          "name": "stderr"
        },
        {
          "output_type": "stream",
          "text": [
            "R2:  0.7573566774154419\n",
            "Mse:  0.8676311497730381\n",
            "Correlation cofficient full: \n",
            " [[1.         0.88691241]\n",
            " [0.88691241 1.        ]]\n",
            "\n",
            "mundra \n",
            "R2:  0.5566847687255609\n",
            "Mse:  0.8595279376576039\n",
            "Correlation cofficient full: \n",
            " [[1.         0.77080765]\n",
            " [0.77080765 1.        ]]\n"
          ],
          "name": "stdout"
        },
        {
          "output_type": "stream",
          "text": [
            "/usr/local/lib/python3.7/dist-packages/ipykernel_launcher.py:31: DataConversionWarning: A column-vector y was passed when a 1d array was expected. Please change the shape of y to (n_samples,), for example using ravel().\n"
          ],
          "name": "stderr"
        }
      ]
    },
    {
      "cell_type": "code",
      "metadata": {
        "colab": {
          "base_uri": "https://localhost:8080/"
        },
        "id": "2K32OBK1xoYU",
        "outputId": "e6e85e0b-4cd6-4140-d4ec-acd6e3853be6"
      },
      "source": [
        "pop_vary=dict()\n",
        "pop_avg=dict()\n",
        "aquifer=dict()\n",
        "soil=dict()\n",
        "for i in range(0,54):\n",
        "  arr=data[data.Namecode == i][SI_level].values.flatten()\n",
        "  pop=data[data.Namecode == i]['Population'].values.flatten()[0]\n",
        "  aq=data[data.Namecode == i]['Aquifer'].values.flatten()[0]\n",
        "  st=data[data.Namecode == i]['Soil'].values.flatten()[0]\n",
        "  s=0\n",
        "  inc=[]\n",
        "  dec=[]\n",
        "  for j in range(len(arr)-1):\n",
        "    s+=abs(arr[j+1]-arr[j])\n",
        "    if arr[j+1]-arr[j]>0:\n",
        "      inc.append(abs(arr[j+1]-arr[j]))\n",
        "    else:\n",
        "      dec.append(abs(arr[j+1]-arr[j]))\n",
        "  s/=len(arr)\n",
        "  pop_vary[pop]=s\n",
        "  pop_avg[pop]=np.mean(arr)\n",
        "  aquifer[np.mean(dec)]=aq\n",
        "  soil[np.mean(inc)]=st\n",
        "\n",
        "print(pop_vary)\n",
        "print(pop_avg)"
      ],
      "execution_count": 81,
      "outputs": [
        {
          "output_type": "stream",
          "text": [
            "{3118: 1.377699305956768, 3965: 0.531834377088436, 765: 0.4513663750100754, 897: 0.7253972685162839, 3284: 0.5538438128770743, 4552: 0.5203805155364013, 3257: 0.6080404897747662, 148834: 0.46552832595447163, 861: 0.4980678203831636, 4398: 0.43824554306058094, 1709: 0.8780032241961757, 1364: 0.5512684171399056, 2222: 0.9588150375202839, 4480: 1.3030200158207963, 4244: 1.885931447245944, 627: 0.5635480049806149, 4580: 0.26475712548466984, 247992: 0.46654172569772917, 1293: 0.27529077193760426, 807: 0.26527045432646623, 826: 0.39912847584487543, 2072: 0.5354418248783704, 4062: 0.5797571367563781, 5467: 0.8518199690981542, 1038: 0.5587939079861953, 601: 0.6448750702732424, 1753: 0.6241431444252253, 1573: 0.9407784041396913, 7216: 0.20437377436867976, 1626: 0.1046167682302891, 566: 0.701894358924066, 4087: 0.5057730815483383, 3379: 0.7080978435586945, 32293: 1.032022933956953, 51376: 0.6511615353498265, 2259: 0.7301301785034516, 3327: 1.000786223844982, 4007: 0.3596310093133327, 588: 0.2666670757327326, 20338: 0.423605240526413, 11415: 0.5213812831709902, 5710: 0.2858065536146124, 28407: 0.9206143049181682, 989: 0.40892299611048544, 1104: 0.6829905778281345, 10402: 0.8206517786329959, 1588: 0.5770658060124333, 4345: 0.32248123762952136, 2200: 1.1528964875000638, 13303: 0.47882155215128325, 2715: 0.5922007131505824, 1294: 0.7371083722632115, 3849: 0.6705057818074093}\n",
            "{3118: 11.364205700796903, 3965: 7.224456384130443, 765: 5.522474921969174, 897: 6.11635328152391, 3284: 5.2019018920795395, 4552: 7.542352422912567, 3257: 5.6321846789222905, 148834: 14.421695676178256, 861: 6.369855549261899, 4398: 17.304799911523123, 1709: 11.95310091406482, 1364: 12.021236704512006, 2222: 9.356465476933272, 4480: 16.182804294537043, 4244: 35.75909755640463, 627: 9.806245285928943, 4580: 27.366638336004648, 247992: 6.98715573096605, 1293: 1.3353488722760303, 807: 1.8156837023121106, 826: 2.620039889778085, 2072: 6.355273034874621, 4062: 5.076532183266898, 5467: 36.61832632478828, 1038: 7.779343771886411, 601: 9.831494589524493, 1753: 4.832410409343658, 1573: 23.751786837040292, 7216: 13.578298588725485, 1626: 7.277389231693262, 566: 7.331501864865308, 4087: 14.05697630918689, 3379: 9.353805443799107, 32293: 49.574054981417774, 51376: 26.743571220813827, 2259: 9.553136694127854, 3327: 4.499654350287232, 4007: 2.848325933377895, 588: 3.7295362557248115, 20338: 5.385453768319106, 11415: 9.822689513170435, 5710: 17.337197662452727, 28407: 23.856132163245086, 989: 3.562554542925575, 1104: 5.8430901815000675, 10402: 5.278043521368766, 1588: 11.843021573470361, 4345: 2.512764720650173, 2200: 10.57912890462127, 13303: 14.344648489559177, 2715: 11.83140106127213, 1294: 29.303748555902956, 3849: 7.8265173659235385}\n"
          ],
          "name": "stdout"
        }
      ]
    },
    {
      "cell_type": "markdown",
      "metadata": {
        "id": "RJxGSAOXkroj"
      },
      "source": [
        "# Scatterplot of relation between population and average monthly variation of gw level"
      ]
    },
    {
      "cell_type": "code",
      "metadata": {
        "colab": {
          "base_uri": "https://localhost:8080/",
          "height": 297
        },
        "id": "alV4KErVyne8",
        "outputId": "069bbf97-1e90-40e8-f9ec-27177e5974c5"
      },
      "source": [
        "plt.scatter(list(pop_vary.keys()),list(pop_vary.values()))\n",
        "plt.xlabel('Population')\n",
        "plt.ylabel('Average Monthly Variation')"
      ],
      "execution_count": 82,
      "outputs": [
        {
          "output_type": "execute_result",
          "data": {
            "text/plain": [
              "Text(0, 0.5, 'Average Monthly Variation')"
            ]
          },
          "metadata": {
            "tags": []
          },
          "execution_count": 82
        },
        {
          "output_type": "display_data",
          "data": {
            "image/png": "[encoded data removed]",
            "text/plain": [
              "<Figure size 432x288 with 1 Axes>"
            ]
          },
          "metadata": {
            "tags": [],
            "needs_background": "light"
          }
        }
      ]
    },
    {
      "cell_type": "markdown",
      "metadata": {
        "id": "_ZfZepSMk5xd"
      },
      "source": [
        "# Scatterplot of relation between population and average gw level"
      ]
    },
    {
      "cell_type": "code",
      "metadata": {
        "colab": {
          "base_uri": "https://localhost:8080/",
          "height": 297
        },
        "id": "ZivfHJDOztXl",
        "outputId": "82aad399-c042-4544-ec82-37acfba86a5e"
      },
      "source": [
        "plt.scatter(list(pop_avg.keys()),list(pop_avg.values()),color='green')\n",
        "plt.xlabel('Population')\n",
        "plt.ylabel('Average Groundwater Level')\n"
      ],
      "execution_count": 83,
      "outputs": [
        {
          "output_type": "execute_result",
          "data": {
            "text/plain": [
              "Text(0, 0.5, 'Average Groundwater Level')"
            ]
          },
          "metadata": {
            "tags": []
          },
          "execution_count": 83
        },
        {
          "output_type": "display_data",
          "data": {
            "image/png": "[encoded data removed]",
            "text/plain": [
              "<Figure size 432x288 with 1 Axes>"
            ]
          },
          "metadata": {
            "tags": [],
            "needs_background": "light"
          }
        }
      ]
    },
    {
      "cell_type": "code",
      "metadata": {
        "id": "vYnswf04T1U-"
      },
      "source": [
        "# fulltest_x.loc[fulltest_x['Alluvium']>=0, 'Alluvium'] = 1\n",
        "# fulltest_x.loc[fulltest_x['Basalt'] >=0, 'Basalt'] = 0\n",
        "# fulltest_x.loc[fulltest_x['Laterite'] >=, 'Laterite'] = 0\n",
        "# fulltest_x.loc[fulltest_x['Limestone'] >=0, 'Limestone'] = 0\n",
        "# fulltest_x.loc[fulltest_x['Sandstone_conglomerate'] >=0, 'Sandstone_conglomerate'] = 0\n",
        "# fulltest_x.loc[fulltest_x['Shale'] >=0, 'Shale'] = 0\n"
      ],
      "execution_count": 80,
      "outputs": []
    },
    {
      "cell_type": "markdown",
      "metadata": {
        "id": "6gTca02MlEeN"
      },
      "source": [
        "# Permuatation of features for explaining cause-effect relation"
      ]
    },
    {
      "cell_type": "markdown",
      "metadata": {
        "id": "YSnJrTvLlN6l"
      },
      "source": [
        "## Effects of change in aquifer type\n",
        "\n",
        "left(will result in decrease of gw level) ---> right (will result in increase of gw level)\n",
        "\n",
        "sandstone -> shale -> basalt -> laterite -> Limestone -> alluvium"
      ]
    },
    {
      "cell_type": "code",
      "metadata": {
        "colab": {
          "base_uri": "https://localhost:8080/"
        },
        "id": "hNYhxRMV_k1A",
        "outputId": "3c038958-2884-4d7f-b7e3-fe44b55623f8"
      },
      "source": [
        "fulltest_x.loc[fulltest_x['Alluvium']>=0, 'Alluvium'] = 1\n",
        "fulltest_x.loc[fulltest_x['Basalt'] >=0, 'Basalt'] = 0\n",
        "fulltest_x.loc[fulltest_x['Laterite'] >=0, 'Laterite'] = 0\n",
        "fulltest_x.loc[fulltest_x['Limestone'] >=0, 'Limestone'] = 0\n",
        "fulltest_x.loc[fulltest_x['Sandstone_conglomerate'] >=0, 'Sandstone_conglomerate'] = 0\n",
        "fulltest_x.loc[fulltest_x['Shale'] >=0, 'Shale'] = 0\n",
        "\n",
        "alluypred=reg.predict(fulltest_x)\n",
        "\n",
        "print(np.mean(np.array(ypred)-np.array(alluypred)))"
      ],
      "execution_count": 42,
      "outputs": [
        {
          "output_type": "stream",
          "text": [
            "1.4192693607038125\n"
          ],
          "name": "stdout"
        }
      ]
    },
    {
      "cell_type": "code",
      "metadata": {
        "colab": {
          "base_uri": "https://localhost:8080/"
        },
        "id": "MfogZ1ek_1R4",
        "outputId": "73ed1488-eda8-40e0-eb40-9c05f7e90777"
      },
      "source": [
        "fulltest_x.loc[fulltest_x['Alluvium']>=0, 'Alluvium'] = 0\n",
        "fulltest_x.loc[fulltest_x['Basalt'] >=0, 'Basalt'] = 1\n",
        "fulltest_x.loc[fulltest_x['Laterite'] >=0, 'Laterite'] = 0\n",
        "fulltest_x.loc[fulltest_x['Limestone'] >=0, 'Limestone'] = 0\n",
        "fulltest_x.loc[fulltest_x['Sandstone_conglomerate'] >=0, 'Sandstone_conglomerate'] = 0\n",
        "fulltest_x.loc[fulltest_x['Shale'] >=0, 'Shale'] = 0\n",
        "\n",
        "basaltypred=reg.predict(fulltest_x)\n",
        "\n",
        "print(np.mean(np.array(ypred)-np.array(basaltypred)))"
      ],
      "execution_count": 43,
      "outputs": [
        {
          "output_type": "stream",
          "text": [
            "0.9538304025593172\n"
          ],
          "name": "stdout"
        }
      ]
    },
    {
      "cell_type": "code",
      "metadata": {
        "colab": {
          "base_uri": "https://localhost:8080/"
        },
        "id": "AxAKf56A_1-u",
        "outputId": "81b54b5a-7d8c-4416-a4e5-7d8547ead3b4"
      },
      "source": [
        "fulltest_x.loc[fulltest_x['Alluvium']>=0, 'Alluvium'] = 0\n",
        "fulltest_x.loc[fulltest_x['Basalt'] >=0, 'Basalt'] = 0\n",
        "fulltest_x.loc[fulltest_x['Laterite'] >=0, 'Laterite'] = 1\n",
        "fulltest_x.loc[fulltest_x['Limestone'] >=0, 'Limestone'] = 0\n",
        "fulltest_x.loc[fulltest_x['Sandstone_conglomerate'] >=0, 'Sandstone_conglomerate'] = 0\n",
        "fulltest_x.loc[fulltest_x['Shale'] >=0, 'Shale'] = 0\n",
        "\n",
        "latypred=reg.predict(fulltest_x)\n",
        "\n",
        "print(np.mean(np.array(ypred)-np.array(latypred)))"
      ],
      "execution_count": 44,
      "outputs": [
        {
          "output_type": "stream",
          "text": [
            "1.3873985475873103\n"
          ],
          "name": "stdout"
        }
      ]
    },
    {
      "cell_type": "code",
      "metadata": {
        "colab": {
          "base_uri": "https://localhost:8080/"
        },
        "id": "YjsQGoYw_2f0",
        "outputId": "264075b3-704f-4b25-8233-a84e823c8c62"
      },
      "source": [
        "fulltest_x.loc[fulltest_x['Alluvium']>=0, 'Alluvium'] = 0\n",
        "fulltest_x.loc[fulltest_x['Basalt'] >=0, 'Basalt'] = 0\n",
        "fulltest_x.loc[fulltest_x['Laterite'] >=0, 'Laterite'] = 0\n",
        "fulltest_x.loc[fulltest_x['Limestone'] >=0, 'Limestone'] = 1\n",
        "fulltest_x.loc[fulltest_x['Sandstone_conglomerate'] >=0, 'Sandstone_conglomerate'] = 0\n",
        "fulltest_x.loc[fulltest_x['Shale'] >=0, 'Shale'] = 0\n",
        "\n",
        "limeypred=reg.predict(fulltest_x)\n",
        "\n",
        "print(np.mean(np.array(ypred)-np.array(limeypred)))"
      ],
      "execution_count": 45,
      "outputs": [
        {
          "output_type": "stream",
          "text": [
            "1.4144545699813384\n"
          ],
          "name": "stdout"
        }
      ]
    },
    {
      "cell_type": "code",
      "metadata": {
        "colab": {
          "base_uri": "https://localhost:8080/"
        },
        "id": "R6jrUXT8_3BZ",
        "outputId": "64363cfc-1ec8-4e68-d61b-a7ae0953d0c6"
      },
      "source": [
        "fulltest_x.loc[fulltest_x['Alluvium']>=0, 'Alluvium'] = 0\n",
        "fulltest_x.loc[fulltest_x['Basalt'] >=0, 'Basalt'] = 0\n",
        "fulltest_x.loc[fulltest_x['Laterite'] >=0, 'Laterite'] = 0\n",
        "fulltest_x.loc[fulltest_x['Limestone'] >=0, 'Limestone'] = 0\n",
        "fulltest_x.loc[fulltest_x['Sandstone_conglomerate'] >=0, 'Sandstone_conglomerate'] = 1\n",
        "fulltest_x.loc[fulltest_x['Shale'] >=0, 'Shale'] = 0\n",
        "\n",
        "sandypred=reg.predict(fulltest_x)\n",
        "\n",
        "print(np.mean(np.array(ypred)-np.array(sandypred)))"
      ],
      "execution_count": 46,
      "outputs": [
        {
          "output_type": "stream",
          "text": [
            "-2.380628527859237\n"
          ],
          "name": "stdout"
        }
      ]
    },
    {
      "cell_type": "code",
      "metadata": {
        "colab": {
          "base_uri": "https://localhost:8080/"
        },
        "id": "jATwoT5GAtBN",
        "outputId": "ec60cfa4-5b66-4370-bb2b-f943e3a3c8d8"
      },
      "source": [
        "fulltest_x.loc[fulltest_x['Alluvium']>=0, 'Alluvium'] = 0\n",
        "fulltest_x.loc[fulltest_x['Basalt'] >=0, 'Basalt'] = 0\n",
        "fulltest_x.loc[fulltest_x['Laterite'] >=0, 'Laterite'] = 0\n",
        "fulltest_x.loc[fulltest_x['Limestone'] >=0, 'Limestone'] = 0\n",
        "fulltest_x.loc[fulltest_x['Sandstone_conglomerate'] >=0, 'Sandstone_conglomerate'] = 0\n",
        "fulltest_x.loc[fulltest_x['Shale'] >=0, 'Shale'] = 1\n",
        "\n",
        "shaleypred=reg.predict(fulltest_x)\n",
        "\n",
        "print(np.mean(np.array(ypred)-np.array(shaleypred)))"
      ],
      "execution_count": 47,
      "outputs": [
        {
          "output_type": "stream",
          "text": [
            "0.7158021029058917\n"
          ],
          "name": "stdout"
        }
      ]
    },
    {
      "cell_type": "code",
      "metadata": {
        "id": "5EFU0falBYb2"
      },
      "source": [
        "fulltest_x.describe()"
      ],
      "execution_count": null,
      "outputs": []
    },
    {
      "cell_type": "markdown",
      "metadata": {
        "id": "gaiKGtFGmG16"
      },
      "source": [
        "## Effect of change in soil type\n",
        "\n",
        "left(will result in decrease of gw level) ---> right (will result in increase of gw level)\n",
        "\n",
        "Loamy Clay -> Rocky -> Sandy clay -> Sand"
      ]
    },
    {
      "cell_type": "code",
      "metadata": {
        "colab": {
          "base_uri": "https://localhost:8080/"
        },
        "id": "7QTWjkKZBM-p",
        "outputId": "9ada0ac2-fdd0-4521-b106-002d5de6ec98"
      },
      "source": [
        "fulltest_x.loc[fulltest_x['Clay']>=0, 'Clay'] = 1\n",
        "fulltest_x.loc[fulltest_x['Loam'] >=0, 'Loam'] = 0\n",
        "fulltest_x.loc[fulltest_x['Rocky'] >=0, 'Rocky'] = 0\n",
        "fulltest_x.loc[fulltest_x['Sand'] >=0, 'Sand'] = 0\n",
        "\n",
        "\n",
        "clayypred=reg.predict(fulltest_x)\n",
        "\n",
        "print(np.mean(np.array(ypred)-np.array(clayypred)))"
      ],
      "execution_count": 50,
      "outputs": [
        {
          "output_type": "stream",
          "text": [
            "0.1925891634230872\n"
          ],
          "name": "stdout"
        }
      ]
    },
    {
      "cell_type": "code",
      "metadata": {
        "colab": {
          "base_uri": "https://localhost:8080/"
        },
        "id": "qawY6hoEB_ay",
        "outputId": "c0ce098a-cff3-47ec-bc69-8ba11d4afff7"
      },
      "source": [
        "fulltest_x.loc[fulltest_x['Clay']>=0, 'Clay'] = 0\n",
        "fulltest_x.loc[fulltest_x['Loam'] >=0, 'Loam'] = 1\n",
        "fulltest_x.loc[fulltest_x['Rocky'] >=0, 'Rocky'] = 0\n",
        "fulltest_x.loc[fulltest_x['Sand'] >=0, 'Sand'] = 0\n",
        "\n",
        "\n",
        "loamypred=reg.predict(fulltest_x)\n",
        "\n",
        "print(np.mean(np.array(ypred)-np.array(loamypred)))"
      ],
      "execution_count": 51,
      "outputs": [
        {
          "output_type": "stream",
          "text": [
            "-0.919956462809917\n"
          ],
          "name": "stdout"
        }
      ]
    },
    {
      "cell_type": "code",
      "metadata": {
        "colab": {
          "base_uri": "https://localhost:8080/"
        },
        "id": "QhSBViM9CABi",
        "outputId": "67eb6eca-1c95-497f-ea54-72d10f566d25"
      },
      "source": [
        "fulltest_x.loc[fulltest_x['Clay']>=0, 'Clay'] = 0\n",
        "fulltest_x.loc[fulltest_x['Loam'] >=0, 'Loam'] = 0\n",
        "fulltest_x.loc[fulltest_x['Rocky'] >=0, 'Rocky'] = 1\n",
        "fulltest_x.loc[fulltest_x['Sand'] >=0, 'Sand'] = 0\n",
        "\n",
        "\n",
        "rockypred=reg.predict(fulltest_x)\n",
        "\n",
        "print(np.mean(np.array(ypred)-np.array(rockypred)))"
      ],
      "execution_count": 52,
      "outputs": [
        {
          "output_type": "stream",
          "text": [
            "0.06473318261796851\n"
          ],
          "name": "stdout"
        }
      ]
    },
    {
      "cell_type": "code",
      "metadata": {
        "colab": {
          "base_uri": "https://localhost:8080/"
        },
        "id": "ooStpe9WCAhL",
        "outputId": "7fdeceb8-7f16-4499-bf5e-fc5e187d80bd"
      },
      "source": [
        "fulltest_x.loc[fulltest_x['Clay']>=0, 'Clay'] = 0\n",
        "fulltest_x.loc[fulltest_x['Loam'] >=0, 'Loam'] = 0\n",
        "fulltest_x.loc[fulltest_x['Rocky'] >=0, 'Rocky'] = 0\n",
        "fulltest_x.loc[fulltest_x['Sand'] >=0, 'Sand'] = 1\n",
        "\n",
        "\n",
        "sandypred=reg.predict(fulltest_x)\n",
        "\n",
        "print(np.mean(np.array(ypred)-np.array(sandypred)))"
      ],
      "execution_count": 53,
      "outputs": [
        {
          "output_type": "stream",
          "text": [
            "0.30306968168488424\n"
          ],
          "name": "stdout"
        }
      ]
    },
    {
      "cell_type": "code",
      "metadata": {
        "id": "WOt1Atz6i348"
      },
      "source": [
        ""
      ],
      "execution_count": null,
      "outputs": []
    },
    {
      "cell_type": "markdown",
      "metadata": {
        "id": "c2TWwgGymaJU"
      },
      "source": [
        "## Effect of change in soil depth\n",
        "\n",
        "left(will result in decrease of gw level) ---> right (will result in increase of gw level)\n",
        "\n",
        "50 -> 37 -> 17 -> 10"
      ]
    },
    {
      "cell_type": "code",
      "metadata": {
        "colab": {
          "base_uri": "https://localhost:8080/"
        },
        "id": "WSXrEa5pi377",
        "outputId": "ea172a7f-71a8-4b92-dcf7-69a0c6995f8c"
      },
      "source": [
        "fulltest_x.loc[fulltest_x['SD_10.0']>=0, 'SD_10.0'] = 1\n",
        "fulltest_x.loc[fulltest_x['SD_17.5'] >=0, 'SD_17.5'] = 0\n",
        "fulltest_x.loc[fulltest_x['SD_37.5'] >=0, 'SD_37.5'] = 0\n",
        "fulltest_x.loc[fulltest_x['SD_50.0'] >=0, 'SD_50.0'] = 0\n",
        "\n",
        "\n",
        "sd10ypred=reg.predict(fulltest_x)\n",
        "\n",
        "print(np.mean(np.array(ypred)-np.array(sd10ypred)))"
      ],
      "execution_count": 88,
      "outputs": [
        {
          "output_type": "stream",
          "text": [
            "1.0309642516662223\n"
          ],
          "name": "stdout"
        }
      ]
    },
    {
      "cell_type": "code",
      "metadata": {
        "colab": {
          "base_uri": "https://localhost:8080/"
        },
        "id": "jj5buJEojWSt",
        "outputId": "a4cff5c0-a61f-4f22-c5a4-12159f310b98"
      },
      "source": [
        "fulltest_x.loc[fulltest_x['SD_10.0']>=0, 'SD_10.0'] = 0\n",
        "fulltest_x.loc[fulltest_x['SD_17.5'] >=0, 'SD_17.5'] = 1\n",
        "fulltest_x.loc[fulltest_x['SD_37.5'] >=0, 'SD_37.5'] = 0\n",
        "fulltest_x.loc[fulltest_x['SD_50.0'] >=0, 'SD_50.0'] = 0\n",
        "\n",
        "\n",
        "sd17ypred=reg.predict(fulltest_x)\n",
        "\n",
        "print(np.mean(np.array(ypred)-np.array(sd17ypred)))"
      ],
      "execution_count": 89,
      "outputs": [
        {
          "output_type": "stream",
          "text": [
            "1.1467220975739802\n"
          ],
          "name": "stdout"
        }
      ]
    },
    {
      "cell_type": "code",
      "metadata": {
        "colab": {
          "base_uri": "https://localhost:8080/"
        },
        "id": "JOdbPl7njWwG",
        "outputId": "b366ce0e-dc94-4d07-e15d-b0c532159845"
      },
      "source": [
        "fulltest_x.loc[fulltest_x['SD_10.0']>=0, 'SD_10.0'] = 0\n",
        "fulltest_x.loc[fulltest_x['SD_17.5'] >=0, 'SD_17.5'] = 0\n",
        "fulltest_x.loc[fulltest_x['SD_37.5'] >=0, 'SD_37.5'] = 1\n",
        "fulltest_x.loc[fulltest_x['SD_50.0'] >=0, 'SD_50.0'] = 0\n",
        "\n",
        "\n",
        "sd37ypred=reg.predict(fulltest_x)\n",
        "\n",
        "print(np.mean(np.array(ypred)-np.array(sd37ypred)))"
      ],
      "execution_count": 90,
      "outputs": [
        {
          "output_type": "stream",
          "text": [
            "0.7956084478805651\n"
          ],
          "name": "stdout"
        }
      ]
    },
    {
      "cell_type": "code",
      "metadata": {
        "colab": {
          "base_uri": "https://localhost:8080/"
        },
        "id": "BqX_4w0SjW35",
        "outputId": "5753d0e6-75a3-4e10-9301-a4b76723aa81"
      },
      "source": [
        "fulltest_x.loc[fulltest_x['SD_10.0']>=0, 'SD_10.0'] = 0\n",
        "fulltest_x.loc[fulltest_x['SD_17.5'] >=0, 'SD_17.5'] = 0\n",
        "fulltest_x.loc[fulltest_x['SD_37.5'] >=0, 'SD_37.5'] = 0\n",
        "fulltest_x.loc[fulltest_x['SD_50.0'] >=0, 'SD_50.0'] = 1\n",
        "\n",
        "\n",
        "sd50ypred=reg.predict(fulltest_x)\n",
        "\n",
        "print(np.mean(np.array(ypred)-np.array(sd50ypred)))"
      ],
      "execution_count": 91,
      "outputs": [
        {
          "output_type": "stream",
          "text": [
            "-0.7503028419088245\n"
          ],
          "name": "stdout"
        }
      ]
    },
    {
      "cell_type": "code",
      "metadata": {
        "id": "b0EvNRrFp7Mu"
      },
      "source": [
        "model = tf.keras.Sequential([\n",
        "      layers.Dense(128, activation='selu'),\n",
        "      layers.Dense(64, activation='selu'),\n",
        "      layers.Dense(1)\n",
        "  ])\n",
        "\n",
        "model.compile(loss='mean_absolute_error',\n",
        "                optimizer=tf.keras.optimizers.Adam(0.001))"
      ],
      "execution_count": 153,
      "outputs": []
    },
    {
      "cell_type": "markdown",
      "metadata": {
        "id": "7hNRtzjAwb4W"
      },
      "source": [
        "# Result of Baseline NN model"
      ]
    },
    {
      "cell_type": "code",
      "metadata": {
        "colab": {
          "base_uri": "https://localhost:8080/"
        },
        "id": "BWmz52X-qpJv",
        "outputId": "85ce8799-0803-4750-9360-f17ae0e56537"
      },
      "source": [
        "from sklearn.metrics import r2_score\n",
        "model.fit(basetrain_x,train_y,epochs=500,verbose=0)\n",
        "yp=model.predict(basetest_x)\n",
        "print(\"R2: \",r2_score(test_y.values.flatten(),yp.flatten()))\n",
        "print(\"MSe: \",mean_squared_error(test_y.values.flatten(),yp.flatten()))\n",
        "print(\"Corr: \",np.corrcoef(test_y.values.flatten(),yp.flatten()))"
      ],
      "execution_count": 151,
      "outputs": [
        {
          "output_type": "stream",
          "text": [
            "R2:  -0.18120041729637548\n",
            "MSe:  112.9915428874335\n",
            "Corr:  [[1.         0.33830071]\n",
            " [0.33830071 1.        ]]\n"
          ],
          "name": "stdout"
        }
      ]
    },
    {
      "cell_type": "markdown",
      "metadata": {
        "id": "1LlO6LhRwfm0"
      },
      "source": [
        "# Result of full features NN model"
      ]
    },
    {
      "cell_type": "code",
      "metadata": {
        "colab": {
          "base_uri": "https://localhost:8080/"
        },
        "id": "Hy4pTgBNn478",
        "outputId": "4f4979f4-7796-4f12-9257-188ecbe01aa8"
      },
      "source": [
        "from sklearn.metrics import r2_score\n",
        "model.fit(fulltrain_x,train_y,epochs=500,verbose=0)\n",
        "yp=model.predict(fulltest_x)\n",
        "print(\"R2: \",r2_score(test_y.values.flatten(),yp.flatten()))\n",
        "print(\"MSe: \",mean_squared_error(test_y.values.flatten(),yp.flatten()))\n",
        "print(\"Corr: \",np.corrcoef(test_y.values.flatten(),yp.flatten()))\n"
      ],
      "execution_count": 154,
      "outputs": [
        {
          "output_type": "stream",
          "text": [
            "R2:  0.8939467512436275\n",
            "MSe:  10.144866213843052\n",
            "Corr:  [[1.         0.94653716]\n",
            " [0.94653716 1.        ]]\n"
          ],
          "name": "stdout"
        }
      ]
    },
    {
      "cell_type": "markdown",
      "metadata": {
        "id": "a8WMvalQwjwD"
      },
      "source": [
        "# plot of true vs predicted gw level values for full NN model"
      ]
    },
    {
      "cell_type": "code",
      "metadata": {
        "colab": {
          "base_uri": "https://localhost:8080/",
          "height": 265
        },
        "id": "-0ZDKleOrpDw",
        "outputId": "ef06857d-d73e-4d5a-b128-6e0dc91affe2"
      },
      "source": [
        "plt.plot(test_y.values.flatten()[:500])\n",
        "plt.plot(yp[:500],)\n",
        "plt.legend([\"True\", \"Predicted\"], loc =\"upper right\")\n",
        "plt.ylabel('Groundwater Level (m)')\n",
        "plt.show()"
      ],
      "execution_count": 155,
      "outputs": [
        {
          "output_type": "display_data",
          "data": {
            "image/png": "[encoded data removed]",
            "text/plain": [
              "<Figure size 432x288 with 1 Axes>"
            ]
          },
          "metadata": {
            "tags": [],
            "needs_background": "light"
          }
        }
      ]
    }
  ]
}